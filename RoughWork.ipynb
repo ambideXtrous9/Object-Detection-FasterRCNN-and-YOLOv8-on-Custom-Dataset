{
 "cells": [
  {
   "cell_type": "code",
   "execution_count": 4,
   "metadata": {},
   "outputs": [],
   "source": [
    "import pandas as pd"
   ]
  },
  {
   "cell_type": "code",
   "execution_count": 5,
   "metadata": {},
   "outputs": [],
   "source": [
    "fname = 'flickr_logos_dataset/flickr_logos_27_dataset/flickr_logos_27_dataset_training_set_annotation.txt'"
   ]
  },
  {
   "cell_type": "code",
   "execution_count": 6,
   "metadata": {},
   "outputs": [],
   "source": [
    "# Read the text file into a pandas DataFrame\n",
    "columns = [\"imgname\", \"classname\", \"class\", \"xmin\", \"ymin\", \"xmax\", \"ymax\"]\n",
    "data_df = pd.read_csv(fname, sep=' ', header=None, names=columns,index_col=False)"
   ]
  },
  {
   "cell_type": "code",
   "execution_count": 7,
   "metadata": {},
   "outputs": [
    {
     "data": {
      "text/html": [
       "<div>\n",
       "<style scoped>\n",
       "    .dataframe tbody tr th:only-of-type {\n",
       "        vertical-align: middle;\n",
       "    }\n",
       "\n",
       "    .dataframe tbody tr th {\n",
       "        vertical-align: top;\n",
       "    }\n",
       "\n",
       "    .dataframe thead th {\n",
       "        text-align: right;\n",
       "    }\n",
       "</style>\n",
       "<table border=\"1\" class=\"dataframe\">\n",
       "  <thead>\n",
       "    <tr style=\"text-align: right;\">\n",
       "      <th></th>\n",
       "      <th>imgname</th>\n",
       "      <th>classname</th>\n",
       "      <th>class</th>\n",
       "      <th>xmin</th>\n",
       "      <th>ymin</th>\n",
       "      <th>xmax</th>\n",
       "      <th>ymax</th>\n",
       "    </tr>\n",
       "  </thead>\n",
       "  <tbody>\n",
       "    <tr>\n",
       "      <th>0</th>\n",
       "      <td>144503924.jpg</td>\n",
       "      <td>Adidas</td>\n",
       "      <td>1</td>\n",
       "      <td>38</td>\n",
       "      <td>12</td>\n",
       "      <td>234</td>\n",
       "      <td>142</td>\n",
       "    </tr>\n",
       "    <tr>\n",
       "      <th>1</th>\n",
       "      <td>2451569770.jpg</td>\n",
       "      <td>Adidas</td>\n",
       "      <td>1</td>\n",
       "      <td>242</td>\n",
       "      <td>208</td>\n",
       "      <td>413</td>\n",
       "      <td>331</td>\n",
       "    </tr>\n",
       "    <tr>\n",
       "      <th>2</th>\n",
       "      <td>390321909.jpg</td>\n",
       "      <td>Adidas</td>\n",
       "      <td>1</td>\n",
       "      <td>13</td>\n",
       "      <td>5</td>\n",
       "      <td>89</td>\n",
       "      <td>60</td>\n",
       "    </tr>\n",
       "    <tr>\n",
       "      <th>3</th>\n",
       "      <td>4761260517.jpg</td>\n",
       "      <td>Adidas</td>\n",
       "      <td>1</td>\n",
       "      <td>43</td>\n",
       "      <td>122</td>\n",
       "      <td>358</td>\n",
       "      <td>354</td>\n",
       "    </tr>\n",
       "    <tr>\n",
       "      <th>4</th>\n",
       "      <td>4763210295.jpg</td>\n",
       "      <td>Adidas</td>\n",
       "      <td>1</td>\n",
       "      <td>83</td>\n",
       "      <td>63</td>\n",
       "      <td>130</td>\n",
       "      <td>93</td>\n",
       "    </tr>\n",
       "    <tr>\n",
       "      <th>...</th>\n",
       "      <td>...</td>\n",
       "      <td>...</td>\n",
       "      <td>...</td>\n",
       "      <td>...</td>\n",
       "      <td>...</td>\n",
       "      <td>...</td>\n",
       "      <td>...</td>\n",
       "    </tr>\n",
       "    <tr>\n",
       "      <th>4531</th>\n",
       "      <td>2126991906.jpg</td>\n",
       "      <td>Yahoo</td>\n",
       "      <td>6</td>\n",
       "      <td>15</td>\n",
       "      <td>6</td>\n",
       "      <td>253</td>\n",
       "      <td>54</td>\n",
       "    </tr>\n",
       "    <tr>\n",
       "      <th>4532</th>\n",
       "      <td>217288720.jpg</td>\n",
       "      <td>Yahoo</td>\n",
       "      <td>6</td>\n",
       "      <td>136</td>\n",
       "      <td>161</td>\n",
       "      <td>304</td>\n",
       "      <td>222</td>\n",
       "    </tr>\n",
       "    <tr>\n",
       "      <th>4533</th>\n",
       "      <td>2472817996.jpg</td>\n",
       "      <td>Yahoo</td>\n",
       "      <td>6</td>\n",
       "      <td>2</td>\n",
       "      <td>4</td>\n",
       "      <td>499</td>\n",
       "      <td>106</td>\n",
       "    </tr>\n",
       "    <tr>\n",
       "      <th>4534</th>\n",
       "      <td>2514220918.jpg</td>\n",
       "      <td>Yahoo</td>\n",
       "      <td>6</td>\n",
       "      <td>1</td>\n",
       "      <td>69</td>\n",
       "      <td>342</td>\n",
       "      <td>157</td>\n",
       "    </tr>\n",
       "    <tr>\n",
       "      <th>4535</th>\n",
       "      <td>386891249.jpg</td>\n",
       "      <td>Yahoo</td>\n",
       "      <td>6</td>\n",
       "      <td>156</td>\n",
       "      <td>10</td>\n",
       "      <td>310</td>\n",
       "      <td>49</td>\n",
       "    </tr>\n",
       "  </tbody>\n",
       "</table>\n",
       "<p>4536 rows × 7 columns</p>\n",
       "</div>"
      ],
      "text/plain": [
       "             imgname classname  class  xmin  ymin  xmax  ymax\n",
       "0      144503924.jpg    Adidas      1    38    12   234   142\n",
       "1     2451569770.jpg    Adidas      1   242   208   413   331\n",
       "2      390321909.jpg    Adidas      1    13     5    89    60\n",
       "3     4761260517.jpg    Adidas      1    43   122   358   354\n",
       "4     4763210295.jpg    Adidas      1    83    63   130    93\n",
       "...              ...       ...    ...   ...   ...   ...   ...\n",
       "4531  2126991906.jpg     Yahoo      6    15     6   253    54\n",
       "4532   217288720.jpg     Yahoo      6   136   161   304   222\n",
       "4533  2472817996.jpg     Yahoo      6     2     4   499   106\n",
       "4534  2514220918.jpg     Yahoo      6     1    69   342   157\n",
       "4535   386891249.jpg     Yahoo      6   156    10   310    49\n",
       "\n",
       "[4536 rows x 7 columns]"
      ]
     },
     "execution_count": 7,
     "metadata": {},
     "output_type": "execute_result"
    }
   ],
   "source": [
    "data_df"
   ]
  },
  {
   "cell_type": "code",
   "execution_count": 8,
   "metadata": {},
   "outputs": [
    {
     "data": {
      "text/plain": [
       "6"
      ]
     },
     "execution_count": 8,
     "metadata": {},
     "output_type": "execute_result"
    }
   ],
   "source": [
    "data_df['class'].max()"
   ]
  },
  {
   "cell_type": "code",
   "execution_count": 9,
   "metadata": {},
   "outputs": [
    {
     "data": {
      "text/plain": [
       "array(['Adidas', 'Apple', 'BMW', 'Citroen', 'Cocacola', 'DHL', 'Fedex',\n",
       "       'Ferrari', 'Ford', 'Google', 'Heineken', 'HP', 'Intel',\n",
       "       'McDonalds', 'Mini', 'Nbc', 'Nike', 'Pepsi', 'Porsche', 'Puma',\n",
       "       'RedBull', 'Sprite', 'Starbucks', 'Texaco', 'Unicef', 'Vodafone',\n",
       "       'Yahoo'], dtype=object)"
      ]
     },
     "execution_count": 9,
     "metadata": {},
     "output_type": "execute_result"
    }
   ],
   "source": [
    "data_df['classname'].unique()"
   ]
  },
  {
   "cell_type": "code",
   "execution_count": 10,
   "metadata": {},
   "outputs": [],
   "source": [
    "class_names = data_df['classname'].unique()        "
   ]
  },
  {
   "cell_type": "code",
   "execution_count": 11,
   "metadata": {},
   "outputs": [],
   "source": [
    "class_name_to_label = {class_name: label for label, class_name in enumerate(class_names)}"
   ]
  },
  {
   "cell_type": "code",
   "execution_count": 12,
   "metadata": {},
   "outputs": [
    {
     "data": {
      "text/plain": [
       "{'Adidas': 0,\n",
       " 'Apple': 1,\n",
       " 'BMW': 2,\n",
       " 'Citroen': 3,\n",
       " 'Cocacola': 4,\n",
       " 'DHL': 5,\n",
       " 'Fedex': 6,\n",
       " 'Ferrari': 7,\n",
       " 'Ford': 8,\n",
       " 'Google': 9,\n",
       " 'Heineken': 10,\n",
       " 'HP': 11,\n",
       " 'Intel': 12,\n",
       " 'McDonalds': 13,\n",
       " 'Mini': 14,\n",
       " 'Nbc': 15,\n",
       " 'Nike': 16,\n",
       " 'Pepsi': 17,\n",
       " 'Porsche': 18,\n",
       " 'Puma': 19,\n",
       " 'RedBull': 20,\n",
       " 'Sprite': 21,\n",
       " 'Starbucks': 22,\n",
       " 'Texaco': 23,\n",
       " 'Unicef': 24,\n",
       " 'Vodafone': 25,\n",
       " 'Yahoo': 26}"
      ]
     },
     "execution_count": 12,
     "metadata": {},
     "output_type": "execute_result"
    }
   ],
   "source": [
    "class_name_to_label"
   ]
  },
  {
   "cell_type": "code",
   "execution_count": null,
   "metadata": {},
   "outputs": [],
   "source": []
  }
 ],
 "metadata": {
  "kernelspec": {
   "display_name": "Python 3",
   "language": "python",
   "name": "python3"
  },
  "language_info": {
   "codemirror_mode": {
    "name": "ipython",
    "version": 3
   },
   "file_extension": ".py",
   "mimetype": "text/x-python",
   "name": "python",
   "nbconvert_exporter": "python",
   "pygments_lexer": "ipython3",
   "version": "3.8.10"
  }
 },
 "nbformat": 4,
 "nbformat_minor": 2
}
