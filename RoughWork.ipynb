{
 "cells": [
  {
   "cell_type": "code",
   "execution_count": 3,
   "metadata": {},
   "outputs": [],
   "source": [
    "import pandas as pd"
   ]
  },
  {
   "cell_type": "code",
   "execution_count": 4,
   "metadata": {},
   "outputs": [],
   "source": [
    "fname = 'flickr_logos_dataset/flickr_logos_27_dataset/flickr_logos_27_dataset_training_set_annotation.txt'"
   ]
  },
  {
   "cell_type": "code",
   "execution_count": 5,
   "metadata": {},
   "outputs": [],
   "source": [
    "# Read the text file into a pandas DataFrame\n",
    "columns = [\"imgname\", \"classname\", \"class\", \"xmin\", \"ymin\", \"xmax\", \"ymax\"]\n",
    "data_df = pd.read_csv(fname, sep=' ', header=None, names=columns,index_col=False)"
   ]
  },
  {
   "cell_type": "code",
   "execution_count": 6,
   "metadata": {},
   "outputs": [
    {
     "data": {
      "text/html": [
       "<div>\n",
       "<style scoped>\n",
       "    .dataframe tbody tr th:only-of-type {\n",
       "        vertical-align: middle;\n",
       "    }\n",
       "\n",
       "    .dataframe tbody tr th {\n",
       "        vertical-align: top;\n",
       "    }\n",
       "\n",
       "    .dataframe thead th {\n",
       "        text-align: right;\n",
       "    }\n",
       "</style>\n",
       "<table border=\"1\" class=\"dataframe\">\n",
       "  <thead>\n",
       "    <tr style=\"text-align: right;\">\n",
       "      <th></th>\n",
       "      <th>imgname</th>\n",
       "      <th>classname</th>\n",
       "      <th>class</th>\n",
       "      <th>xmin</th>\n",
       "      <th>ymin</th>\n",
       "      <th>xmax</th>\n",
       "      <th>ymax</th>\n",
       "    </tr>\n",
       "  </thead>\n",
       "  <tbody>\n",
       "    <tr>\n",
       "      <th>0</th>\n",
       "      <td>144503924.jpg</td>\n",
       "      <td>Adidas</td>\n",
       "      <td>1</td>\n",
       "      <td>38</td>\n",
       "      <td>12</td>\n",
       "      <td>234</td>\n",
       "      <td>142</td>\n",
       "    </tr>\n",
       "    <tr>\n",
       "      <th>1</th>\n",
       "      <td>2451569770.jpg</td>\n",
       "      <td>Adidas</td>\n",
       "      <td>1</td>\n",
       "      <td>242</td>\n",
       "      <td>208</td>\n",
       "      <td>413</td>\n",
       "      <td>331</td>\n",
       "    </tr>\n",
       "    <tr>\n",
       "      <th>2</th>\n",
       "      <td>390321909.jpg</td>\n",
       "      <td>Adidas</td>\n",
       "      <td>1</td>\n",
       "      <td>13</td>\n",
       "      <td>5</td>\n",
       "      <td>89</td>\n",
       "      <td>60</td>\n",
       "    </tr>\n",
       "    <tr>\n",
       "      <th>3</th>\n",
       "      <td>4761260517.jpg</td>\n",
       "      <td>Adidas</td>\n",
       "      <td>1</td>\n",
       "      <td>43</td>\n",
       "      <td>122</td>\n",
       "      <td>358</td>\n",
       "      <td>354</td>\n",
       "    </tr>\n",
       "    <tr>\n",
       "      <th>4</th>\n",
       "      <td>4763210295.jpg</td>\n",
       "      <td>Adidas</td>\n",
       "      <td>1</td>\n",
       "      <td>83</td>\n",
       "      <td>63</td>\n",
       "      <td>130</td>\n",
       "      <td>93</td>\n",
       "    </tr>\n",
       "    <tr>\n",
       "      <th>...</th>\n",
       "      <td>...</td>\n",
       "      <td>...</td>\n",
       "      <td>...</td>\n",
       "      <td>...</td>\n",
       "      <td>...</td>\n",
       "      <td>...</td>\n",
       "      <td>...</td>\n",
       "    </tr>\n",
       "    <tr>\n",
       "      <th>4526</th>\n",
       "      <td>2126991906.jpg</td>\n",
       "      <td>Yahoo</td>\n",
       "      <td>6</td>\n",
       "      <td>15</td>\n",
       "      <td>6</td>\n",
       "      <td>253</td>\n",
       "      <td>54</td>\n",
       "    </tr>\n",
       "    <tr>\n",
       "      <th>4527</th>\n",
       "      <td>217288720.jpg</td>\n",
       "      <td>Yahoo</td>\n",
       "      <td>6</td>\n",
       "      <td>136</td>\n",
       "      <td>161</td>\n",
       "      <td>304</td>\n",
       "      <td>222</td>\n",
       "    </tr>\n",
       "    <tr>\n",
       "      <th>4528</th>\n",
       "      <td>2472817996.jpg</td>\n",
       "      <td>Yahoo</td>\n",
       "      <td>6</td>\n",
       "      <td>2</td>\n",
       "      <td>4</td>\n",
       "      <td>499</td>\n",
       "      <td>106</td>\n",
       "    </tr>\n",
       "    <tr>\n",
       "      <th>4529</th>\n",
       "      <td>2514220918.jpg</td>\n",
       "      <td>Yahoo</td>\n",
       "      <td>6</td>\n",
       "      <td>1</td>\n",
       "      <td>69</td>\n",
       "      <td>342</td>\n",
       "      <td>157</td>\n",
       "    </tr>\n",
       "    <tr>\n",
       "      <th>4530</th>\n",
       "      <td>386891249.jpg</td>\n",
       "      <td>Yahoo</td>\n",
       "      <td>6</td>\n",
       "      <td>156</td>\n",
       "      <td>10</td>\n",
       "      <td>310</td>\n",
       "      <td>49</td>\n",
       "    </tr>\n",
       "  </tbody>\n",
       "</table>\n",
       "<p>4531 rows × 7 columns</p>\n",
       "</div>"
      ],
      "text/plain": [
       "             imgname classname  class  xmin  ymin  xmax  ymax\n",
       "0      144503924.jpg    Adidas      1    38    12   234   142\n",
       "1     2451569770.jpg    Adidas      1   242   208   413   331\n",
       "2      390321909.jpg    Adidas      1    13     5    89    60\n",
       "3     4761260517.jpg    Adidas      1    43   122   358   354\n",
       "4     4763210295.jpg    Adidas      1    83    63   130    93\n",
       "...              ...       ...    ...   ...   ...   ...   ...\n",
       "4526  2126991906.jpg     Yahoo      6    15     6   253    54\n",
       "4527   217288720.jpg     Yahoo      6   136   161   304   222\n",
       "4528  2472817996.jpg     Yahoo      6     2     4   499   106\n",
       "4529  2514220918.jpg     Yahoo      6     1    69   342   157\n",
       "4530   386891249.jpg     Yahoo      6   156    10   310    49\n",
       "\n",
       "[4531 rows x 7 columns]"
      ]
     },
     "execution_count": 6,
     "metadata": {},
     "output_type": "execute_result"
    }
   ],
   "source": [
    "data_df"
   ]
  },
  {
   "cell_type": "code",
   "execution_count": 7,
   "metadata": {},
   "outputs": [
    {
     "data": {
      "text/plain": [
       "6"
      ]
     },
     "execution_count": 7,
     "metadata": {},
     "output_type": "execute_result"
    }
   ],
   "source": [
    "data_df['class'].max()"
   ]
  },
  {
   "cell_type": "code",
   "execution_count": 8,
   "metadata": {},
   "outputs": [
    {
     "data": {
      "text/plain": [
       "array(['Adidas', 'Apple', 'BMW', 'Citroen', 'Cocacola', 'DHL', 'Fedex',\n",
       "       'Ferrari', 'Ford', 'Google', 'Heineken', 'HP', 'Intel',\n",
       "       'McDonalds', 'Mini', 'Nbc', 'Nike', 'Pepsi', 'Porsche', 'Puma',\n",
       "       'RedBull', 'Sprite', 'Starbucks', 'Texaco', 'Unicef', 'Vodafone',\n",
       "       'Yahoo'], dtype=object)"
      ]
     },
     "execution_count": 8,
     "metadata": {},
     "output_type": "execute_result"
    }
   ],
   "source": [
    "data_df['classname'].unique()"
   ]
  },
  {
   "cell_type": "code",
   "execution_count": 9,
   "metadata": {},
   "outputs": [],
   "source": [
    "class_names = data_df['classname'].unique()        "
   ]
  },
  {
   "cell_type": "code",
   "execution_count": 10,
   "metadata": {},
   "outputs": [
    {
     "data": {
      "text/plain": [
       "array(['Adidas', 'Apple', 'BMW', 'Citroen', 'Cocacola', 'DHL', 'Fedex',\n",
       "       'Ferrari', 'Ford', 'Google', 'Heineken', 'HP', 'Intel',\n",
       "       'McDonalds', 'Mini', 'Nbc', 'Nike', 'Pepsi', 'Porsche', 'Puma',\n",
       "       'RedBull', 'Sprite', 'Starbucks', 'Texaco', 'Unicef', 'Vodafone',\n",
       "       'Yahoo'], dtype=object)"
      ]
     },
     "execution_count": 10,
     "metadata": {},
     "output_type": "execute_result"
    }
   ],
   "source": [
    "class_names"
   ]
  },
  {
   "cell_type": "code",
   "execution_count": 11,
   "metadata": {},
   "outputs": [
    {
     "data": {
      "text/plain": [
       "'Adidas'"
      ]
     },
     "execution_count": 11,
     "metadata": {},
     "output_type": "execute_result"
    }
   ],
   "source": [
    "class_names[0]"
   ]
  },
  {
   "cell_type": "code",
   "execution_count": 46,
   "metadata": {},
   "outputs": [],
   "source": [
    "class_name_to_label = {class_name: label for label, class_name in enumerate(class_names)}"
   ]
  },
  {
   "cell_type": "code",
   "execution_count": 47,
   "metadata": {},
   "outputs": [
    {
     "data": {
      "text/plain": [
       "{'Adidas': 0,\n",
       " 'Apple': 1,\n",
       " 'BMW': 2,\n",
       " 'Citroen': 3,\n",
       " 'Cocacola': 4,\n",
       " 'DHL': 5,\n",
       " 'Fedex': 6,\n",
       " 'Ferrari': 7,\n",
       " 'Ford': 8,\n",
       " 'Google': 9,\n",
       " 'Heineken': 10,\n",
       " 'HP': 11,\n",
       " 'Intel': 12,\n",
       " 'McDonalds': 13,\n",
       " 'Mini': 14,\n",
       " 'Nbc': 15,\n",
       " 'Nike': 16,\n",
       " 'Pepsi': 17,\n",
       " 'Porsche': 18,\n",
       " 'Puma': 19,\n",
       " 'RedBull': 20,\n",
       " 'Sprite': 21,\n",
       " 'Starbucks': 22,\n",
       " 'Texaco': 23,\n",
       " 'Unicef': 24,\n",
       " 'Vodafone': 25,\n",
       " 'Yahoo': 26}"
      ]
     },
     "execution_count": 47,
     "metadata": {},
     "output_type": "execute_result"
    }
   ],
   "source": [
    "class_name_to_label"
   ]
  },
  {
   "cell_type": "code",
   "execution_count": 48,
   "metadata": {},
   "outputs": [],
   "source": [
    "import matplotlib.pyplot as plt\n",
    "import matplotlib.patches as patches\n",
    "import os"
   ]
  },
  {
   "cell_type": "code",
   "execution_count": 50,
   "metadata": {},
   "outputs": [],
   "source": [
    "folder_path = \"flickr_logos_dataset/flickr_logos_27_dataset_images\""
   ]
  },
  {
   "cell_type": "code",
   "execution_count": 51,
   "metadata": {},
   "outputs": [],
   "source": [
    "data_df['full_path'] = folder_path + '/' + data_df['imgname']"
   ]
  },
  {
   "cell_type": "code",
   "execution_count": 54,
   "metadata": {},
   "outputs": [
    {
     "data": {
      "text/plain": [
       "'flickr_logos_dataset/flickr_logos_27_dataset_images/2451569770.jpg'"
      ]
     },
     "execution_count": 54,
     "metadata": {},
     "output_type": "execute_result"
    }
   ],
   "source": [
    "data_df['full_path'][1]"
   ]
  },
  {
   "cell_type": "code",
   "execution_count": 67,
   "metadata": {},
   "outputs": [],
   "source": [
    "import config\n",
    "from PIL import Image\n"
   ]
  },
  {
   "cell_type": "code",
   "execution_count": 81,
   "metadata": {},
   "outputs": [],
   "source": [
    "def plot_img_bbox(idx):\n",
    "    # plot the image and bboxes\n",
    "    # Bounding boxes are defined as follows: x-min y-min width height\n",
    "    path = data_df.iloc[idx]['full_path']\n",
    "    image = Image.open(path).convert(\"RGB\")\n",
    "    \n",
    "    wt, ht = image.size\n",
    "    image = image.resize((config.WIDTH, config.HEIGHT))\n",
    "    \n",
    "    xmin = data_df.iloc[idx][3]\n",
    "    ymin = data_df.iloc[idx][4]\n",
    "    xmax = data_df.iloc[idx][5]\n",
    "    ymax = data_df.iloc[idx][6]\n",
    "    \n",
    "    xmin_corr = (xmin/wt)*config.WIDTH\n",
    "    xmax_corr = (xmax/wt)*config.WIDTH\n",
    "    ymin_corr = (ymin/ht)*config.HEIGHT\n",
    "    ymax_corr = (ymax/ht)*config.HEIGHT\n",
    "    \n",
    "    fig, a = plt.subplots(1,1)\n",
    "    fig.set_size_inches(5,5)\n",
    "    \n",
    "    a.imshow(image)\n",
    "    plt.axis('off')\n",
    "    target = {}\n",
    "    \n",
    "    target['boxes'] = [[xmin_corr,ymin_corr,xmax_corr,ymax_corr]]\n",
    "    for box in (target['boxes']):\n",
    "        x, y, width, height  = box[0], box[1], box[2]-box[0], box[3]-box[1]\n",
    "        rect = patches.Rectangle((x, y),\n",
    "                                 width, height,\n",
    "                                 linewidth = 2,\n",
    "                                 edgecolor = 'r',\n",
    "                                 facecolor = 'none')\n",
    "\n",
    "        # Draw the bounding box on top of the image\n",
    "        a.add_patch(rect)\n",
    "    plt.show()"
   ]
  },
  {
   "cell_type": "code",
   "execution_count": 88,
   "metadata": {},
   "outputs": [
    {
     "data": {
      "image/png": "[encoded data removed]",
      "text/plain": [
       "<Figure size 500x500 with 1 Axes>"
      ]
     },
     "metadata": {},
     "output_type": "display_data"
    }
   ],
   "source": [
    "plot_img_bbox(20)"
   ]
  },
  {
   "cell_type": "code",
   "execution_count": 89,
   "metadata": {},
   "outputs": [],
   "source": [
    "from model import FasterRCNNLightning\n",
    "import pytorch_lightning as pl\n",
    "from pytorch_lightning.callbacks import ModelCheckpoint\n",
    "from dataloader import Flickr27DataModule\n",
    "from lightning.pytorch import seed_everything\n",
    "import config"
   ]
  },
  {
   "cell_type": "code",
   "execution_count": 125,
   "metadata": {},
   "outputs": [
    {
     "name": "stderr",
     "output_type": "stream",
     "text": [
      "Seed set to 42\n",
      "/home/sushovan/.local/lib/python3.8/site-packages/torchvision/models/_utils.py:208: UserWarning: The parameter 'pretrained' is deprecated since 0.13 and may be removed in the future, please use 'weights' instead.\n",
      "  warnings.warn(\n",
      "/home/sushovan/.local/lib/python3.8/site-packages/torchvision/models/_utils.py:223: UserWarning: Arguments other than a weight enum or `None` for 'weights' are deprecated since 0.13 and may be removed in the future. The current behavior is equivalent to passing `weights=FasterRCNN_ResNet50_FPN_Weights.COCO_V1`. You can also use `weights=FasterRCNN_ResNet50_FPN_Weights.DEFAULT` to get the most up-to-date weights.\n",
      "  warnings.warn(msg)\n",
      "GPU available: True (cuda), used: True\n",
      "TPU available: False, using: 0 TPU cores\n",
      "IPU available: False, using: 0 IPUs\n",
      "HPU available: False, using: 0 HPUs\n"
     ]
    }
   ],
   "source": [
    "\n",
    "\n",
    "seed_everything(42, workers=True)\n",
    "\n",
    "\n",
    "model = FasterRCNNLightning(num_classes=config.NUM_CLASSES,lr=config.LR)\n",
    "\n",
    "\n",
    "checkpoint_callback = ModelCheckpoint(\n",
    "    dirpath = 'checkpoints',\n",
    "    filename = config.CHECKPOINT_NAME,\n",
    "    save_top_k = 1,\n",
    "    verbose = True,\n",
    "    monitor = 'mean_val',\n",
    "    mode = 'min'\n",
    ")\n",
    "\n",
    "data_module = Flickr27DataModule(root_folder=config.MAIN_LOGO_FOLDER,\n",
    "                                annotation_file=config.ANNOTATION_FILE_PATH,\n",
    "                                batch_size=config.BATCH_SIZE,\n",
    "                                val_split=config.VAL_SPLIT)\n",
    "\n",
    "data_module.setup()\n",
    "\n",
    "trainer = pl.Trainer(devices=-1, \n",
    "                  accelerator=\"gpu\",\n",
    "                  check_val_every_n_epoch=5,\n",
    "                #   callbacks=[checkpoint_callback],\n",
    "                  max_epochs=config.MAX_EPOCHS)\n",
    "\n",
    "\n"
   ]
  },
  {
   "cell_type": "code",
   "execution_count": 91,
   "metadata": {},
   "outputs": [
    {
     "name": "stderr",
     "output_type": "stream",
     "text": [
      "/home/sushovan/.local/lib/python3.8/site-packages/pytorch_lightning/trainer/configuration_validator.py:106: You passed in a `val_dataloader` but have no `validation_step`. Skipping val loop.\n",
      "LOCAL_RANK: 0 - CUDA_VISIBLE_DEVICES: [0]\n",
      "\n",
      "  | Name  | Type       | Params\n",
      "-------------------------------------\n",
      "0 | model | FasterRCNN | 41.4 M\n",
      "-------------------------------------\n",
      "41.2 M    Trainable params\n",
      "222 K     Non-trainable params\n",
      "41.4 M    Total params\n",
      "165.709   Total estimated model params size (MB)\n"
     ]
    },
    {
     "name": "stdout",
     "output_type": "stream",
     "text": [
      "Epoch 0:   0%|          | 0/906 [00:00<?, ?it/s] "
     ]
    },
    {
     "name": "stderr",
     "output_type": "stream",
     "text": [
      "/home/sushovan/.local/lib/python3.8/site-packages/pytorch_lightning/utilities/data.py:83: Trying to infer the `batch_size` from an ambiguous collection. The batch size we found is 3. To avoid any miscalculations, use `self.log(..., batch_size=batch_size)`.\n"
     ]
    },
    {
     "name": "stdout",
     "output_type": "stream",
     "text": [
      "Epoch 0:  14%|█▎        | 123/906 [03:40<23:26,  1.80s/it, loss=0.326, v_num=1, Loss_step=0.205]"
     ]
    },
    {
     "name": "stderr",
     "output_type": "stream",
     "text": [
      "/home/sushovan/.local/lib/python3.8/site-packages/pytorch_lightning/trainer/call.py:48: Detected KeyboardInterrupt, attempting graceful shutdown...\n"
     ]
    }
   ],
   "source": [
    "trainer.fit(model=model,datamodule=data_module)"
   ]
  },
  {
   "cell_type": "code",
   "execution_count": 92,
   "metadata": {},
   "outputs": [],
   "source": [
    "import torchvision"
   ]
  },
  {
   "cell_type": "code",
   "execution_count": 93,
   "metadata": {},
   "outputs": [],
   "source": [
    "def apply_nms(orig_prediction, iou_thresh=0.3):\n",
    "    \n",
    "    # torchvision returns the indices of the bboxes to keep\n",
    "    keep = torchvision.ops.nms(orig_prediction['boxes'], orig_prediction['scores'], iou_thresh)\n",
    "    \n",
    "    final_prediction = orig_prediction\n",
    "    final_prediction['boxes'] = final_prediction['boxes'][keep]\n",
    "    final_prediction['scores'] = final_prediction['scores'][keep]\n",
    "    final_prediction['labels'] = final_prediction['labels'][keep]\n",
    "    \n",
    "    return final_prediction"
   ]
  },
  {
   "cell_type": "code",
   "execution_count": 126,
   "metadata": {},
   "outputs": [
    {
     "data": {
      "image/png": "[encoded data removed]",
      "text/plain": [
       "<Figure size 640x480 with 1 Axes>"
      ]
     },
     "metadata": {},
     "output_type": "display_data"
    }
   ],
   "source": [
    "path = data_df.iloc[0]['full_path']\n",
    "image = Image.open(path).convert(\"RGB\")\n",
    "wt, ht = image.size\n",
    "image = image.resize((config.WIDTH, config.HEIGHT))\n",
    "\n",
    "plt.imshow(image)\n",
    "plt.axis('off')\n",
    "plt.show()"
   ]
  },
  {
   "cell_type": "code",
   "execution_count": 127,
   "metadata": {},
   "outputs": [],
   "source": [
    "import torch\n",
    "import numpy as np"
   ]
  },
  {
   "cell_type": "code",
   "execution_count": 128,
   "metadata": {},
   "outputs": [],
   "source": [
    "image = np.array(image).astype(np.float32)\n",
    "image /= 255.0"
   ]
  },
  {
   "cell_type": "code",
   "execution_count": 129,
   "metadata": {},
   "outputs": [],
   "source": [
    "import albumentations as A\n",
    "from albumentations.pytorch.transforms import ToTensorV2\n"
   ]
  },
  {
   "cell_type": "code",
   "execution_count": 130,
   "metadata": {},
   "outputs": [],
   "source": [
    "def get_train_transform():\n",
    "    return A.Compose([\n",
    "        ToTensorV2(p=1.0)])"
   ]
  },
  {
   "cell_type": "code",
   "execution_count": 131,
   "metadata": {},
   "outputs": [],
   "source": [
    "img = get_train_transform()(image=image)"
   ]
  },
  {
   "cell_type": "code",
   "execution_count": 132,
   "metadata": {},
   "outputs": [],
   "source": [
    "image_tensor = img['image'].unsqueeze(0) "
   ]
  },
  {
   "cell_type": "code",
   "execution_count": 133,
   "metadata": {},
   "outputs": [],
   "source": [
    "model.eval()\n",
    "with torch.no_grad():\n",
    "    prediction = model.forward(image_tensor.to(model.device))[0]"
   ]
  },
  {
   "cell_type": "code",
   "execution_count": 145,
   "metadata": {},
   "outputs": [],
   "source": [
    "def predplot_img_bbox(idx,iou_thresh=0.1):\n",
    "    # plot the image and bboxes\n",
    "    # Bounding boxes are defined as follows: x-min y-min width height\n",
    "    path = data_df.iloc[idx]['full_path']\n",
    "    image = Image.open(path).convert(\"RGB\")\n",
    "    \n",
    "    image = image.resize((config.WIDTH, config.HEIGHT))\n",
    "    \n",
    "    \n",
    "    fig, a = plt.subplots(1,1)\n",
    "    fig.set_size_inches(5,5)\n",
    "    \n",
    "    a.imshow(image)\n",
    "    plt.axis('off')\n",
    "    \n",
    "    img = np.array(image).astype(np.float32)\n",
    "    img /= 255.0\n",
    "    \n",
    "    img = get_train_transform()(image=img)\n",
    "    \n",
    "    image_tensor = img['image'].unsqueeze(0) \n",
    "    \n",
    "    model.eval()\n",
    "    with torch.no_grad():\n",
    "        prediction = model.forward(image_tensor.to(model.device))[0]\n",
    "        \n",
    "    prediction = apply_nms(prediction, iou_thresh=0.1)\n",
    "\n",
    "            \n",
    "    for box in (prediction['boxes']):\n",
    "        x, y, width, height  = box[0], box[1], box[2]-box[0], box[3]-box[1]\n",
    "        rect = patches.Rectangle((x, y),\n",
    "                                 width, height,\n",
    "                                 linewidth = 2,\n",
    "                                 edgecolor = 'r',\n",
    "                                 facecolor = 'none')\n",
    "\n",
    "        # Draw the bounding box on top of the image\n",
    "        a.add_patch(rect)\n",
    "    plt.show()"
   ]
  },
  {
   "cell_type": "code",
   "execution_count": 149,
   "metadata": {},
   "outputs": [
    {
     "data": {
      "image/png": "[encoded data removed]",
      "text/plain": [
       "<Figure size 500x500 with 1 Axes>"
      ]
     },
     "metadata": {},
     "output_type": "display_data"
    }
   ],
   "source": [
    "predplot_img_bbox(idx=20,iou_thresh=0.05)"
   ]
  },
  {
   "cell_type": "code",
   "execution_count": 150,
   "metadata": {},
   "outputs": [
    {
     "name": "stderr",
     "output_type": "stream",
     "text": [
      "/home/sushovan/.local/lib/python3.8/site-packages/torchvision/models/_utils.py:208: UserWarning: The parameter 'pretrained' is deprecated since 0.13 and may be removed in the future, please use 'weights' instead.\n",
      "  warnings.warn(\n",
      "/home/sushovan/.local/lib/python3.8/site-packages/torchvision/models/_utils.py:223: UserWarning: Arguments other than a weight enum or `None` for 'weights' are deprecated since 0.13 and may be removed in the future. The current behavior is equivalent to passing `weights=FasterRCNN_ResNet50_FPN_Weights.COCO_V1`. You can also use `weights=FasterRCNN_ResNet50_FPN_Weights.DEFAULT` to get the most up-to-date weights.\n",
      "  warnings.warn(msg)\n"
     ]
    },
    {
     "ename": "FileNotFoundError",
     "evalue": "[Errno 2] No such file or directory: '/checkpoints/BestFasterRCNN.ckpt'",
     "output_type": "error",
     "traceback": [
      "\u001b[0;31m---------------------------------------------------------------------------\u001b[0m",
      "\u001b[0;31mFileNotFoundError\u001b[0m                         Traceback (most recent call last)",
      "\u001b[1;32m/home/sushovan/DSA 450/ML Models/Object-Detection/RoughWork.ipynb Cell 32\u001b[0m line \u001b[0;36m1\n\u001b[0;32m----> <a href='vscode-notebook-cell:/home/sushovan/DSA%20450/ML%20Models/Object-Detection/RoughWork.ipynb#X50sZmlsZQ%3D%3D?line=0'>1</a>\u001b[0m \u001b[39mfrom\u001b[39;00m \u001b[39mpredict\u001b[39;00m \u001b[39mimport\u001b[39;00m predplot_img_bbox\n",
      "File \u001b[0;32m~/DSA 450/ML Models/Object-Detection/predict.py:25\u001b[0m\n\u001b[1;32m     21\u001b[0m model \u001b[39m=\u001b[39m FasterRCNNLightning(num_classes\u001b[39m=\u001b[39mconfig\u001b[39m.\u001b[39mNUM_CLASSES,lr\u001b[39m=\u001b[39mconfig\u001b[39m.\u001b[39mLR)\n\u001b[1;32m     24\u001b[0m cppath \u001b[39m=\u001b[39m \u001b[39m'\u001b[39m\u001b[39m/checkpoints/BestFasterRCNN.ckpt\u001b[39m\u001b[39m'\u001b[39m\n\u001b[0;32m---> 25\u001b[0m checkpoint \u001b[39m=\u001b[39m torch\u001b[39m.\u001b[39;49mload(cppath)\n\u001b[1;32m     26\u001b[0m model\u001b[39m.\u001b[39mload_state_dict(checkpoint[\u001b[39m'\u001b[39m\u001b[39mstate_dict\u001b[39m\u001b[39m'\u001b[39m])\n\u001b[1;32m     28\u001b[0m \u001b[39mdef\u001b[39;00m \u001b[39mget_train_transform\u001b[39m():\n",
      "File \u001b[0;32m~/.local/lib/python3.8/site-packages/torch/serialization.py:986\u001b[0m, in \u001b[0;36mload\u001b[0;34m(f, map_location, pickle_module, weights_only, mmap, **pickle_load_args)\u001b[0m\n\u001b[1;32m    983\u001b[0m \u001b[39mif\u001b[39;00m \u001b[39m'\u001b[39m\u001b[39mencoding\u001b[39m\u001b[39m'\u001b[39m \u001b[39mnot\u001b[39;00m \u001b[39min\u001b[39;00m pickle_load_args\u001b[39m.\u001b[39mkeys():\n\u001b[1;32m    984\u001b[0m     pickle_load_args[\u001b[39m'\u001b[39m\u001b[39mencoding\u001b[39m\u001b[39m'\u001b[39m] \u001b[39m=\u001b[39m \u001b[39m'\u001b[39m\u001b[39mutf-8\u001b[39m\u001b[39m'\u001b[39m\n\u001b[0;32m--> 986\u001b[0m \u001b[39mwith\u001b[39;00m _open_file_like(f, \u001b[39m'\u001b[39;49m\u001b[39mrb\u001b[39;49m\u001b[39m'\u001b[39;49m) \u001b[39mas\u001b[39;00m opened_file:\n\u001b[1;32m    987\u001b[0m     \u001b[39mif\u001b[39;00m _is_zipfile(opened_file):\n\u001b[1;32m    988\u001b[0m         \u001b[39m# The zipfile reader is going to advance the current file position.\u001b[39;00m\n\u001b[1;32m    989\u001b[0m         \u001b[39m# If we want to actually tail call to torch.jit.load, we need to\u001b[39;00m\n\u001b[1;32m    990\u001b[0m         \u001b[39m# reset back to the original position.\u001b[39;00m\n\u001b[1;32m    991\u001b[0m         orig_position \u001b[39m=\u001b[39m opened_file\u001b[39m.\u001b[39mtell()\n",
      "File \u001b[0;32m~/.local/lib/python3.8/site-packages/torch/serialization.py:435\u001b[0m, in \u001b[0;36m_open_file_like\u001b[0;34m(name_or_buffer, mode)\u001b[0m\n\u001b[1;32m    433\u001b[0m \u001b[39mdef\u001b[39;00m \u001b[39m_open_file_like\u001b[39m(name_or_buffer, mode):\n\u001b[1;32m    434\u001b[0m     \u001b[39mif\u001b[39;00m _is_path(name_or_buffer):\n\u001b[0;32m--> 435\u001b[0m         \u001b[39mreturn\u001b[39;00m _open_file(name_or_buffer, mode)\n\u001b[1;32m    436\u001b[0m     \u001b[39melse\u001b[39;00m:\n\u001b[1;32m    437\u001b[0m         \u001b[39mif\u001b[39;00m \u001b[39m'\u001b[39m\u001b[39mw\u001b[39m\u001b[39m'\u001b[39m \u001b[39min\u001b[39;00m mode:\n",
      "File \u001b[0;32m~/.local/lib/python3.8/site-packages/torch/serialization.py:416\u001b[0m, in \u001b[0;36m_open_file.__init__\u001b[0;34m(self, name, mode)\u001b[0m\n\u001b[1;32m    415\u001b[0m \u001b[39mdef\u001b[39;00m \u001b[39m__init__\u001b[39m(\u001b[39mself\u001b[39m, name, mode):\n\u001b[0;32m--> 416\u001b[0m     \u001b[39msuper\u001b[39m()\u001b[39m.\u001b[39m\u001b[39m__init__\u001b[39m(\u001b[39mopen\u001b[39;49m(name, mode))\n",
      "\u001b[0;31mFileNotFoundError\u001b[0m: [Errno 2] No such file or directory: '/checkpoints/BestFasterRCNN.ckpt'"
     ]
    }
   ],
   "source": [
    "from predict import predplot_img_bbox"
   ]
  },
  {
   "cell_type": "code",
   "execution_count": null,
   "metadata": {},
   "outputs": [],
   "source": []
  }
 ],
 "metadata": {
  "kernelspec": {
   "display_name": "Python 3",
   "language": "python",
   "name": "python3"
  },
  "language_info": {
   "codemirror_mode": {
    "name": "ipython",
    "version": 3
   },
   "file_extension": ".py",
   "mimetype": "text/x-python",
   "name": "python",
   "nbconvert_exporter": "python",
   "pygments_lexer": "ipython3",
   "version": "3.8.10"
  }
 },
 "nbformat": 4,
 "nbformat_minor": 2
}
